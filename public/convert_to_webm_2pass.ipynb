{
 "cells": [
  {
   "cell_type": "code",
   "execution_count": null,
   "metadata": {},
   "outputs": [
    {
     "name": "stdout",
     "output_type": "stream",
     "text": [
      "❌ Percorso non valido.\n"
     ]
    }
   ],
   "source": [
    "import os\n",
    "import subprocess\n",
    "import sys\n",
    "import platform\n",
    "import shutil\n",
    "\n",
    "def is_ffmpeg_installed():\n",
    "    return shutil.which(\"ffmpeg\") is not None\n",
    "\n",
    "def install_ffmpeg():\n",
    "    system = platform.system()\n",
    "    print(\"⚠️ FFmpeg non trovato. Avvio installazione...\")\n",
    "    if system == \"Windows\":\n",
    "        import zipfile, urllib.request, tempfile\n",
    "        temp_dir = tempfile.mkdtemp()\n",
    "        zip_path = os.path.join(temp_dir, \"ffmpeg.zip\")\n",
    "        url = \"https://www.gyan.dev/ffmpeg/builds/ffmpeg-release-essentials.zip\"\n",
    "        urllib.request.urlretrieve(url, zip_path)\n",
    "        with zipfile.ZipFile(zip_path, 'r') as zip_ref:\n",
    "            zip_ref.extractall(temp_dir)\n",
    "        bin_dir = next(\n",
    "            (os.path.join(temp_dir, d, \"bin\") for d in os.listdir(temp_dir) if d.startswith(\"ffmpeg\")), None\n",
    "        )\n",
    "        if bin_dir:\n",
    "            os.environ[\"PATH\"] += os.pathsep + bin_dir\n",
    "        else:\n",
    "            print(\"❌ Errore durante l’estrazione.\")\n",
    "            sys.exit(1)\n",
    "    elif system == \"Darwin\":\n",
    "        subprocess.run([\"brew\", \"install\", \"ffmpeg\"], check=True)\n",
    "    elif system == \"Linux\":\n",
    "        subprocess.run([\"sudo\", \"apt\", \"update\"], check=True)\n",
    "        subprocess.run([\"sudo\", \"apt\", \"install\", \"-y\", \"ffmpeg\"], check=True)\n",
    "    else:\n",
    "        print(\"❌ Sistema non supportato.\")\n",
    "        sys.exit(1)\n",
    "\n",
    "def convert_to_webm_2pass(input_path, output_path, target_bitrate='4M'):\n",
    "    log_file = 'ffmpeg2pass.log'\n",
    "    cmd_pass1 = [\n",
    "        'ffmpeg', '-y', '-i', input_path,\n",
    "        '-c:v', 'libvpx-vp9', '-b:v', target_bitrate,\n",
    "        '-pass', '1', '-an', '-f', 'null', os.devnull\n",
    "    ]\n",
    "    cmd_pass2 = [\n",
    "        'ffmpeg', '-y', '-i', input_path,\n",
    "        '-c:v', 'libvpx-vp9', '-b:v', target_bitrate,\n",
    "        '-pass', '2', '-c:a', 'libopus', output_path\n",
    "    ]\n",
    "    print(f\"🎬 Primo passaggio: {input_path}\")\n",
    "    subprocess.run(cmd_pass1, check=True)\n",
    "    print(f\"🎬 Secondo passaggio: {input_path} → {output_path}\")\n",
    "    subprocess.run(cmd_pass2, check=True)\n",
    "    for f in [log_file, log_file + '.log.mbtree']:\n",
    "        if os.path.exists(f):\n",
    "            os.remove(f)\n",
    "\n",
    "def batch_convert(folder_path, target_bitrate='4M'):\n",
    "    for file in os.listdir(folder_path):\n",
    "        if file.lower().endswith('.mp4'):\n",
    "            input_path = os.path.join(folder_path, file)\n",
    "            output_path = os.path.join(folder_path, os.path.splitext(file)[0] + '.webm')\n",
    "            convert_to_webm_2pass(input_path, output_path, target_bitrate)\n",
    "\n",
    "if not is_ffmpeg_installed():\n",
    "    install_ffmpeg()\n",
    "\n",
    "folder = input(\"video\").strip()\n",
    "if os.path.isdir(folder):\n",
    "    batch_convert(folder, target_bitrate='4M')\n",
    "    print(\"✅ Conversione completata.\")\n",
    "else:\n",
    "    print(\"❌ Percorso non valido.\")"
   ]
  }
 ],
 "metadata": {
  "kernelspec": {
   "display_name": "Python 3",
   "language": "python",
   "name": "python3"
  },
  "language_info": {
   "codemirror_mode": {
    "name": "ipython",
    "version": 3
   },
   "file_extension": ".py",
   "mimetype": "text/x-python",
   "name": "python",
   "nbconvert_exporter": "python",
   "pygments_lexer": "ipython3",
   "version": "3.13.0"
  }
 },
 "nbformat": 4,
 "nbformat_minor": 5
}
